{
 "cells": [
  {
   "cell_type": "code",
   "execution_count": null,
   "id": "444cf5e2",
   "metadata": {},
   "outputs": [],
   "source": [
    "print(\"This is a code cell.\")"
   ]
  },
  {
   "cell_type": "markdown",
   "id": "2c1a4f5e",
   "metadata": {},
   "source": [
    "This part is written in markdown."
   ]
  }
 ],
 "metadata": {
  "kernelspec": {
   "display_name": "Python 3",
   "language": "python",
   "name": "python3"
  },
  "language_info": {
   "codemirror_mode": {
    "name": "ipython",
    "version": 3
   },
   "file_extension": ".py",
   "mimetype": "text/x-python",
   "name": "python",
   "nbconvert_exporter": "python",
   "pygments_lexer": "ipython3",
   "version": "3.13.7"
  }
 },
 "nbformat": 4,
 "nbformat_minor": 5
}
